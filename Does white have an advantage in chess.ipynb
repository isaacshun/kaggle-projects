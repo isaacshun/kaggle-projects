{
 "cells": [
  {
   "cell_type": "markdown",
   "metadata": {},
   "source": [
    "# Does player as white really have an advantage against player as black?\n",
    "\n",
    "As a chess player myself, I want to know and understand what makes a player, as black or white, win the game. Does the player as white always have the advantage? Throughout history, chess grandmasters and statistians have been debating whether white has the advantage, so I wanted to give it a try and find out."
   ]
  },
  {
   "cell_type": "markdown",
   "metadata": {},
   "source": [
    "### Objectives\n",
    "We need to find out:\n",
    "1. Relationship between times of winning, turns, color, and ratings <br><br>\n",
    "2. Relationship between how the player wins and the color<br><br>\n",
    "3. Relationship between game rating and probability of white winning<br><br>\n",
    "4. How does opening move determine white's win rate?"
   ]
  },
  {
   "cell_type": "markdown",
   "metadata": {},
   "source": [
    "### Import libraries and data\n",
    "Before we begin crunching the numbers, we have to first import the libraries and data"
   ]
  },
  {
   "cell_type": "code",
   "execution_count": 2,
   "metadata": {},
   "outputs": [],
   "source": [
    "#Import libraries\n",
    "import numpy as np\n",
    "import matplotlib.pyplot as plt\n",
    "import seaborn as sns\n",
    "import pandas as pd\n",
    "\n",
    "#Import dataset\n",
    "df = pd.read_csv(\"chess.csv\")"
   ]
  },
  {
   "cell_type": "markdown",
   "metadata": {},
   "source": [
    "### Dataset Overview\n",
    "Inside this dataset contains information about approximately 20000 games in 2017, played by the top 100 teams in Lichess."
   ]
  },
  {
   "cell_type": "code",
   "execution_count": 3,
   "metadata": {},
   "outputs": [
    {
     "name": "stdout",
     "output_type": "stream",
     "text": [
      "(20058, 16)\n"
     ]
    }
   ],
   "source": [
    "#Shows the amount of rows and columns of the dataframe\n",
    "print(df.shape)"
   ]
  },
  {
   "cell_type": "code",
   "execution_count": 4,
   "metadata": {},
   "outputs": [
    {
     "name": "stdout",
     "output_type": "stream",
     "text": [
      "<class 'pandas.core.frame.DataFrame'>\n",
      "RangeIndex: 20058 entries, 0 to 20057\n",
      "Data columns (total 16 columns):\n",
      " #   Column          Non-Null Count  Dtype  \n",
      "---  ------          --------------  -----  \n",
      " 0   id              20058 non-null  object \n",
      " 1   rated           20058 non-null  bool   \n",
      " 2   created_at      20058 non-null  float64\n",
      " 3   last_move_at    20058 non-null  float64\n",
      " 4   turns           20058 non-null  int64  \n",
      " 5   victory_status  20058 non-null  object \n",
      " 6   winner          20058 non-null  object \n",
      " 7   increment_code  20058 non-null  object \n",
      " 8   white_id        20058 non-null  object \n",
      " 9   white_rating    20058 non-null  int64  \n",
      " 10  black_id        20058 non-null  object \n",
      " 11  black_rating    20058 non-null  int64  \n",
      " 12  moves           20058 non-null  object \n",
      " 13  opening_eco     20058 non-null  object \n",
      " 14  opening_name    20058 non-null  object \n",
      " 15  opening_ply     20058 non-null  int64  \n",
      "dtypes: bool(1), float64(2), int64(4), object(9)\n",
      "memory usage: 2.3+ MB\n"
     ]
    },
    {
     "data": {
      "text/html": [
       "<div>\n",
       "<style scoped>\n",
       "    .dataframe tbody tr th:only-of-type {\n",
       "        vertical-align: middle;\n",
       "    }\n",
       "\n",
       "    .dataframe tbody tr th {\n",
       "        vertical-align: top;\n",
       "    }\n",
       "\n",
       "    .dataframe thead th {\n",
       "        text-align: right;\n",
       "    }\n",
       "</style>\n",
       "<table border=\"1\" class=\"dataframe\">\n",
       "  <thead>\n",
       "    <tr style=\"text-align: right;\">\n",
       "      <th></th>\n",
       "      <th>created_at</th>\n",
       "      <th>last_move_at</th>\n",
       "      <th>turns</th>\n",
       "      <th>white_rating</th>\n",
       "      <th>black_rating</th>\n",
       "      <th>opening_ply</th>\n",
       "    </tr>\n",
       "  </thead>\n",
       "  <tbody>\n",
       "    <tr>\n",
       "      <th>count</th>\n",
       "      <td>2.005800e+04</td>\n",
       "      <td>2.005800e+04</td>\n",
       "      <td>20058.000000</td>\n",
       "      <td>20058.000000</td>\n",
       "      <td>20058.000000</td>\n",
       "      <td>20058.000000</td>\n",
       "    </tr>\n",
       "    <tr>\n",
       "      <th>mean</th>\n",
       "      <td>1.483617e+12</td>\n",
       "      <td>1.483618e+12</td>\n",
       "      <td>60.465999</td>\n",
       "      <td>1596.631868</td>\n",
       "      <td>1588.831987</td>\n",
       "      <td>4.816981</td>\n",
       "    </tr>\n",
       "    <tr>\n",
       "      <th>std</th>\n",
       "      <td>2.850151e+10</td>\n",
       "      <td>2.850140e+10</td>\n",
       "      <td>33.570585</td>\n",
       "      <td>291.253376</td>\n",
       "      <td>291.036126</td>\n",
       "      <td>2.797152</td>\n",
       "    </tr>\n",
       "    <tr>\n",
       "      <th>min</th>\n",
       "      <td>1.376772e+12</td>\n",
       "      <td>1.376772e+12</td>\n",
       "      <td>1.000000</td>\n",
       "      <td>784.000000</td>\n",
       "      <td>789.000000</td>\n",
       "      <td>1.000000</td>\n",
       "    </tr>\n",
       "    <tr>\n",
       "      <th>25%</th>\n",
       "      <td>1.477548e+12</td>\n",
       "      <td>1.477548e+12</td>\n",
       "      <td>37.000000</td>\n",
       "      <td>1398.000000</td>\n",
       "      <td>1391.000000</td>\n",
       "      <td>3.000000</td>\n",
       "    </tr>\n",
       "    <tr>\n",
       "      <th>50%</th>\n",
       "      <td>1.496010e+12</td>\n",
       "      <td>1.496010e+12</td>\n",
       "      <td>55.000000</td>\n",
       "      <td>1567.000000</td>\n",
       "      <td>1562.000000</td>\n",
       "      <td>4.000000</td>\n",
       "    </tr>\n",
       "    <tr>\n",
       "      <th>75%</th>\n",
       "      <td>1.503170e+12</td>\n",
       "      <td>1.503170e+12</td>\n",
       "      <td>79.000000</td>\n",
       "      <td>1793.000000</td>\n",
       "      <td>1784.000000</td>\n",
       "      <td>6.000000</td>\n",
       "    </tr>\n",
       "    <tr>\n",
       "      <th>max</th>\n",
       "      <td>1.504493e+12</td>\n",
       "      <td>1.504494e+12</td>\n",
       "      <td>349.000000</td>\n",
       "      <td>2700.000000</td>\n",
       "      <td>2723.000000</td>\n",
       "      <td>28.000000</td>\n",
       "    </tr>\n",
       "  </tbody>\n",
       "</table>\n",
       "</div>"
      ],
      "text/plain": [
       "         created_at  last_move_at         turns  white_rating  black_rating  \\\n",
       "count  2.005800e+04  2.005800e+04  20058.000000  20058.000000  20058.000000   \n",
       "mean   1.483617e+12  1.483618e+12     60.465999   1596.631868   1588.831987   \n",
       "std    2.850151e+10  2.850140e+10     33.570585    291.253376    291.036126   \n",
       "min    1.376772e+12  1.376772e+12      1.000000    784.000000    789.000000   \n",
       "25%    1.477548e+12  1.477548e+12     37.000000   1398.000000   1391.000000   \n",
       "50%    1.496010e+12  1.496010e+12     55.000000   1567.000000   1562.000000   \n",
       "75%    1.503170e+12  1.503170e+12     79.000000   1793.000000   1784.000000   \n",
       "max    1.504493e+12  1.504494e+12    349.000000   2700.000000   2723.000000   \n",
       "\n",
       "        opening_ply  \n",
       "count  20058.000000  \n",
       "mean       4.816981  \n",
       "std        2.797152  \n",
       "min        1.000000  \n",
       "25%        3.000000  \n",
       "50%        4.000000  \n",
       "75%        6.000000  \n",
       "max       28.000000  "
      ]
     },
     "execution_count": 4,
     "metadata": {},
     "output_type": "execute_result"
    }
   ],
   "source": [
    "#prints the summary of the dataframe's information\n",
    "df.info()\n",
    "df.describe()"
   ]
  },
  {
   "cell_type": "code",
   "execution_count": 5,
   "metadata": {},
   "outputs": [
    {
     "name": "stdout",
     "output_type": "stream",
     "text": [
      "         id  rated    created_at  last_move_at  turns victory_status winner  \\\n",
      "0  TZJHLljE  False  1.504210e+12  1.504210e+12     13      outoftime  white   \n",
      "1  l1NXvwaE   True  1.504130e+12  1.504130e+12     16         resign  black   \n",
      "2  mIICvQHh   True  1.504130e+12  1.504130e+12     61           mate  white   \n",
      "3  kWKvrqYL   True  1.504110e+12  1.504110e+12     61           mate  white   \n",
      "4  9tXo1AUZ   True  1.504030e+12  1.504030e+12     95           mate  white   \n",
      "\n",
      "  increment_code       white_id  white_rating      black_id  black_rating  \\\n",
      "0           15+2       bourgris          1500          a-00          1191   \n",
      "1           5+10           a-00          1322     skinnerua          1261   \n",
      "2           5+10         ischia          1496          a-00          1500   \n",
      "3           20+0  daniamurashov          1439  adivanov2009          1454   \n",
      "4           30+3      nik221107          1523  adivanov2009          1469   \n",
      "\n",
      "                                               moves opening_eco  \\\n",
      "0  d4 d5 c4 c6 cxd5 e6 dxe6 fxe6 Nf3 Bb4+ Nc3 Ba5...         D10   \n",
      "1  d4 Nc6 e4 e5 f4 f6 dxe5 fxe5 fxe5 Nxe5 Qd4 Nc6...         B00   \n",
      "2  e4 e5 d3 d6 Be3 c6 Be2 b5 Nd2 a5 a4 c5 axb5 Nc...         C20   \n",
      "3  d4 d5 Nf3 Bf5 Nc3 Nf6 Bf4 Ng4 e3 Nc6 Be2 Qd7 O...         D02   \n",
      "4  e4 e5 Nf3 d6 d4 Nc6 d5 Nb4 a3 Na6 Nc3 Be7 b4 N...         C41   \n",
      "\n",
      "                             opening_name  opening_ply  \n",
      "0        Slav Defense: Exchange Variation            5  \n",
      "1  Nimzowitsch Defense: Kennedy Variation            4  \n",
      "2   King's Pawn Game: Leonardis Variation            3  \n",
      "3  Queen's Pawn Game: Zukertort Variation            3  \n",
      "4                        Philidor Defense            5  \n"
     ]
    }
   ],
   "source": [
    "#prints the top 5 games of the dataset\n",
    "print(df.head())"
   ]
  },
  {
   "cell_type": "markdown",
   "metadata": {},
   "source": [
    "### Data Manipulation\n",
    "To analyze it better, we would need to fix the dataframe a bit\n",
    "\n",
    "According to <a href = \"https://support.chess.com/article/330-why-are-there-different-ratings-in-live-chess#:~:text=We%20keep%20these%20rating%20separate,not%20just%20the%20base%20minutes\">chess.com</a>, live chess has 3 ratings based on different time controls:\n",
    "* <b>Bullet rating</b> - For games <3 minutes <br><br>\n",
    "* <b>Blitz rating</b> - For games >3 minutes but <10 minutes <br><br>\n",
    "* <b>Rapid rating</b> - For games >10 minutes<br><br>\n",
    "This system assumes a 40 move average game-length to estimate the total length of time available.\n",
    "\n",
    "So now, in order to make the dataframe more detailed, we can create a new column \"game_rating\" that contains the game ratings\n",
    "\n",
    "\n",
    "$$EstimatedGameTime = Time + \\frac{Increment * 40}{60} $$\n",
    "\n",
    "To get the time and increment, we need the \"increment_code\" column and split it into \"time\" and \"increment\""
   ]
  },
  {
   "cell_type": "code",
   "execution_count": 6,
   "metadata": {},
   "outputs": [],
   "source": [
    "#splitting the increment code through slicing\n",
    "plus = []\n",
    "for i in range(len(df)):\n",
    "    p = df['increment_code'][i].find('+')\n",
    "    plus.append(p)\n",
    "    p = 0\n",
    "\n",
    "time = []\n",
    "increment = []\n",
    "\n",
    "for i in range(len(df)):\n",
    "    tstring = df['increment_code'][i][0:plus[i]]\n",
    "    istring = df['increment_code'][i][plus[i]+1:len(df['increment_code'][i])]\n",
    "    time.append(tstring)\n",
    "    increment.append(istring)\n",
    "\n",
    "df['Time'] = [int(i) for i in time]\n",
    "df['increment']= [int(i) for i in increment]"
   ]
  },
  {
   "cell_type": "code",
   "execution_count": 22,
   "metadata": {},
   "outputs": [],
   "source": [
    "df['est_time'] = round((df['Time'] + ((df['increment'] * 40)/60)))\n",
    "\n",
    "df['game_rating'] = df['est_time']\n",
    "df['game_rating'] = df['game_rating'].apply(lambda x:'bullet' if x < 3 else('blitz' if x < 10 else 'rapid'))\n",
    "\n",
    "#Converting game_rating into categorical data for future use\n",
    "ratings = ['bullet', 'blitz', 'rapid']\n",
    "ratings_cat = pd.api.types.CategoricalDtype(categories = ratings, ordered = True)\n",
    "df['game_rating'] = df['game_rating'].astype(ratings_cat)"
   ]
  },
  {
   "cell_type": "markdown",
   "metadata": {},
   "source": [
    "Now that we have the necessary columns, we can start approaching the objectives."
   ]
  },
  {
   "cell_type": "markdown",
   "metadata": {},
   "source": [
    "### Relationship between win counts, turns and ratings\n",
    "\n",
    "First, I find the relationship between ratings, number of turns, and white's winning possibility"
   ]
  },
  {
   "cell_type": "code",
   "execution_count": 8,
   "metadata": {},
   "outputs": [
    {
     "name": "stdout",
     "output_type": "stream",
     "text": [
      "White total wins: 1005\n",
      "Black total wins: 924\n",
      "Draws: 71\n",
      "White rating disadvantage wins: 360\n",
      "Black rating disadvantage wins: 323\n",
      "White win rating difference standard deviation: 256.08088674638145\n",
      "Black win rating difference standard deviation: 255.3149605159185\n"
     ]
    },
    {
     "data": {
      "image/png": "[encoded data removed]",
      "text/plain": [
       "<Figure size 1152x648 with 1 Axes>"
      ]
     },
     "metadata": {
      "needs_background": "light"
     },
     "output_type": "display_data"
    }
   ],
   "source": [
    "df['rating_diff'] = list(map(lambda x, y: x - y, df['white_rating'], df['black_rating']))\n",
    "\n",
    "#Make a sample of data for scatterplot\n",
    "df_sample = df.sample(2000, replace = False, random_state = 100)\n",
    "df_sample.reset_index(drop=True, inplace=True)\n",
    "\n",
    "winner_markers = [['white', 'o', 'darkgray'], ['black', '^', 'black']]\n",
    "\n",
    "plt.figure(figsize = (16, 9))\n",
    "for win, marker, color in winner_markers:\n",
    "    sns.regplot(data = df_sample.loc[df_sample['winner']==win], x = 'rating_diff', y='turns', x_jitter = 5, fit_reg = False, marker = marker, scatter_kws = {'color': color});\n",
    "plt.legend(title = 'Winner', labels = ['White', 'Black'])\n",
    "plt.axvspan(0, max(df['rating_diff']), facecolor = 'y', alpha = 0.2)\n",
    "plt.xlim(-1500, 1500)\n",
    "plt.ylim(0, 250)\n",
    "plt.xlabel('Rating difference (White - Black)')\n",
    "plt.ylabel('Number of turns')\n",
    "\n",
    "#Turn a tuple into a list\n",
    "whiteWin = []\n",
    "blackWin = []\n",
    "for i in range(len(df_sample)):\n",
    "    if df['winner'][i] == 'white':\n",
    "        whiteWin.append(df_sample['rating_diff'][i])\n",
    "    elif df['winner'][i] == 'black':\n",
    "        blackWin.append(df_sample['rating_diff'][i])\n",
    "\n",
    "#printing results\n",
    "print(\"White total wins: \" + str(list(df_sample['winner']).count('white')))\n",
    "print(\"Black total wins: \" + str(list(df_sample['winner']).count('black')))\n",
    "print(\"Draws: \" + str(list(df_sample['winner']).count('draw')))\n",
    "print(\"White rating disadvantage wins: \" + str(list(df_sample.query('rating_diff < 0')['winner']).count('white')))\n",
    "print(\"Black rating disadvantage wins: \" + str(list(df_sample.query('rating_diff > 0')['winner']).count('black')))\n",
    "print(\"White win rating difference standard deviation: \" + str(np.std(whiteWin)))\n",
    "print(\"Black win rating difference standard deviation: \" + str(np.std(blackWin)))"
   ]
  },
  {
   "cell_type": "markdown",
   "metadata": {},
   "source": [
    "#### Observations\n",
    "Within this plot, I found a few interesting things:\n",
    "* White wins more than black, even during a disadvantage\n",
    "* With a slightly higher standard deviation, white's wins are slightly more evenly distributed across rating differences compared to black's\n",
    "\n",
    "While this shows that white may have a slight advantage, the analysis is not fully completed. "
   ]
  },
  {
   "cell_type": "markdown",
   "metadata": {},
   "source": [
    "### Relationship between victory status and winning color\n",
    "To further on our analysis, we can check the relationship between victory status and winning color\n",
    "\n",
    "To find if white has an advantage over black, we can use <b>Bayes' Theorem</b>, a formula to find out the probability given a prior knowledge of condition. <br>The formula of Bayes' Theorem:\n",
    "$$P(A|B) = \\frac{P(B|A) * P(A)}{P(B)}$$\n",
    "where:\n",
    "* P(A|B) is the probability of event A happening given that B is true.\n",
    "* P(B|A) is the probability of event B happening given that A is true.\n",
    "* P(A) and P(B) are the probabilities of observing A and B respectively, known as the marginal probability.\n",
    "* A and B must be different events\n",
    "\n",
    "Through finding the probability of white winning given a victory status, I can tell whether white has an advantage throughout all or if only some of them."
   ]
  },
  {
   "cell_type": "markdown",
   "metadata": {},
   "source": [
    "#### Probability of white winning given they win through resign\n",
    "To begin the analysis, I found the conditional probability of winning through resigning, given that the winner will be the player as white. <br>\n",
    "Conditional probability formula:\n",
    "$$P(B|A) = \\frac{P(B\\cap A)}{P(A)}$$<br>\n",
    "In the following, white winning will be P(A) and winning through resigning will be P(B):"
   ]
  },
  {
   "cell_type": "code",
   "execution_count": 9,
   "metadata": {},
   "outputs": [
    {
     "data": {
      "text/html": [
       "<div>\n",
       "<style scoped>\n",
       "    .dataframe tbody tr th:only-of-type {\n",
       "        vertical-align: middle;\n",
       "    }\n",
       "\n",
       "    .dataframe tbody tr th {\n",
       "        vertical-align: top;\n",
       "    }\n",
       "\n",
       "    .dataframe thead th {\n",
       "        text-align: right;\n",
       "    }\n",
       "</style>\n",
       "<table border=\"1\" class=\"dataframe\">\n",
       "  <thead>\n",
       "    <tr style=\"text-align: right;\">\n",
       "      <th>win_resign</th>\n",
       "      <th>0</th>\n",
       "      <th>1</th>\n",
       "    </tr>\n",
       "    <tr>\n",
       "      <th>whiteWin</th>\n",
       "      <th></th>\n",
       "      <th></th>\n",
       "    </tr>\n",
       "  </thead>\n",
       "  <tbody>\n",
       "    <tr>\n",
       "      <th>0</th>\n",
       "      <td>4754</td>\n",
       "      <td>5303</td>\n",
       "    </tr>\n",
       "    <tr>\n",
       "      <th>1</th>\n",
       "      <td>4157</td>\n",
       "      <td>5844</td>\n",
       "    </tr>\n",
       "  </tbody>\n",
       "</table>\n",
       "</div>"
      ],
      "text/plain": [
       "win_resign     0     1\n",
       "whiteWin              \n",
       "0           4754  5303\n",
       "1           4157  5844"
      ]
     },
     "execution_count": 9,
     "metadata": {},
     "output_type": "execute_result"
    }
   ],
   "source": [
    "#Add 2 boolean variables to create pivot table\n",
    "df['win_resign'] = np.where(df['victory_status'] == 'resign', 1, 0)\n",
    "df['whiteWin'] = np.where(df['winner'] == 'white', 1, 0)\n",
    "\n",
    "#Add a column to build a pivot table easier\n",
    "df['count'] = 1\n",
    "\n",
    "#Create df1 to drop other columns\n",
    "df1 = df[['whiteWin', 'win_resign', 'count']]\n",
    "\n",
    "#create pivot table\n",
    "pd.pivot_table(df1, values = 'count', index = ['whiteWin'], columns = ['win_resign'], aggfunc = np.size, fill_value = 0)"
   ]
  },
  {
   "cell_type": "markdown",
   "metadata": {},
   "source": [
    "Now that we have all the data we need, we can start by calculating each part of the formula"
   ]
  },
  {
   "cell_type": "code",
   "execution_count": 10,
   "metadata": {},
   "outputs": [],
   "source": [
    "resign_probA = (4157 + 5884)/(4157 + 5303 + 4754 + 5844)\n",
    "resign_probB = (5303 + 5844)/(4754 + 5303 + 4157 + 5844)\n",
    "resign_bna = 5844 / (4754 + 5303 + 4157 + 5844)"
   ]
  },
  {
   "cell_type": "markdown",
   "metadata": {},
   "source": [
    "And now we can plug in the values into the formula for conditional probability"
   ]
  },
  {
   "cell_type": "code",
   "execution_count": 11,
   "metadata": {},
   "outputs": [
    {
     "name": "stdout",
     "output_type": "stream",
     "text": [
      "Probability of win condition given white wins: 58.201374365103085%\n"
     ]
    }
   ],
   "source": [
    "resign_probBgivA = resign_bna / resign_probA\n",
    "print(\"Probability of win condition given white wins: \" + str(resign_probBgivA * 100) + \"%\")"
   ]
  },
  {
   "cell_type": "markdown",
   "metadata": {},
   "source": [
    "Now that probability of A, probability of B, and probability of B given A is here, we can plug all the values into the Bayes' theorem"
   ]
  },
  {
   "cell_type": "code",
   "execution_count": 12,
   "metadata": {},
   "outputs": [
    {
     "name": "stdout",
     "output_type": "stream",
     "text": [
      "Probability of white wins given winning condition is resigning: 52.426661882120754%\n"
     ]
    }
   ],
   "source": [
    "resign_probAgivB = (resign_probBgivA * resign_probA)/resign_probB\n",
    "print(\"Probability of white wins given winning condition is resigning: \" + str(resign_probAgivB*100) + \"%\")"
   ]
  },
  {
   "cell_type": "markdown",
   "metadata": {},
   "source": [
    "After understand the probability of white wins given winning condition is resigning, I repeated the procedure two more times.\n",
    "One for checkmate, and one for timeout."
   ]
  },
  {
   "cell_type": "code",
   "execution_count": 13,
   "metadata": {},
   "outputs": [
    {
     "data": {
      "text/html": [
       "<div>\n",
       "<style scoped>\n",
       "    .dataframe tbody tr th:only-of-type {\n",
       "        vertical-align: middle;\n",
       "    }\n",
       "\n",
       "    .dataframe tbody tr th {\n",
       "        vertical-align: top;\n",
       "    }\n",
       "\n",
       "    .dataframe thead th {\n",
       "        text-align: right;\n",
       "    }\n",
       "</style>\n",
       "<table border=\"1\" class=\"dataframe\">\n",
       "  <thead>\n",
       "    <tr style=\"text-align: right;\">\n",
       "      <th>win_mate</th>\n",
       "      <th>0</th>\n",
       "      <th>1</th>\n",
       "    </tr>\n",
       "    <tr>\n",
       "      <th>whiteWin</th>\n",
       "      <th></th>\n",
       "      <th></th>\n",
       "    </tr>\n",
       "  </thead>\n",
       "  <tbody>\n",
       "    <tr>\n",
       "      <th>0</th>\n",
       "      <td>7076</td>\n",
       "      <td>2981</td>\n",
       "    </tr>\n",
       "    <tr>\n",
       "      <th>1</th>\n",
       "      <td>6657</td>\n",
       "      <td>3344</td>\n",
       "    </tr>\n",
       "  </tbody>\n",
       "</table>\n",
       "</div>"
      ],
      "text/plain": [
       "win_mate     0     1\n",
       "whiteWin            \n",
       "0         7076  2981\n",
       "1         6657  3344"
      ]
     },
     "execution_count": 13,
     "metadata": {},
     "output_type": "execute_result"
    }
   ],
   "source": [
    "#Find probability for white winning given that it's winning by checkmate\n",
    "df['win_mate'] = np.where(df['victory_status'] == 'mate', 1, 0)\n",
    "df['whiteWin'] = np.where(df['winner'] == 'white', 1, 0)\n",
    "\n",
    "\n",
    "df['count'] = 1\n",
    "\n",
    "\n",
    "df1 = df[['whiteWin', 'win_mate', 'count']]\n",
    "\n",
    "\n",
    "pd.pivot_table(df1, values = 'count', index = ['whiteWin'], columns = ['win_mate'], aggfunc = np.size, fill_value = 0)"
   ]
  },
  {
   "cell_type": "code",
   "execution_count": 14,
   "metadata": {},
   "outputs": [
    {
     "name": "stdout",
     "output_type": "stream",
     "text": [
      "Probability of white wins given winning condition is checkmate: 52.8695652173913%\n"
     ]
    }
   ],
   "source": [
    "mate_probA = (6657 + 3344)/(6657 + 3344 + 7076 + 2981)\n",
    "mate_probB = (2981 + 3344)/(6657 + 3344 + 7076 + 2981)\n",
    "mate_bna = 3344 / (6657 + 3344 + 7076 + 2981)\n",
    "mate_probBgivA = mate_bna / mate_probA\n",
    "mate_probAgivB = (mate_probBgivA * mate_probA)/mate_probB\n",
    "print(\"Probability of white wins given winning condition is checkmate: \" + str(mate_probAgivB*100) + \"%\")"
   ]
  },
  {
   "cell_type": "code",
   "execution_count": 15,
   "metadata": {},
   "outputs": [
    {
     "data": {
      "text/html": [
       "<div>\n",
       "<style scoped>\n",
       "    .dataframe tbody tr th:only-of-type {\n",
       "        vertical-align: middle;\n",
       "    }\n",
       "\n",
       "    .dataframe tbody tr th {\n",
       "        vertical-align: top;\n",
       "    }\n",
       "\n",
       "    .dataframe thead th {\n",
       "        text-align: right;\n",
       "    }\n",
       "</style>\n",
       "<table border=\"1\" class=\"dataframe\">\n",
       "  <thead>\n",
       "    <tr style=\"text-align: right;\">\n",
       "      <th>win_out</th>\n",
       "      <th>0</th>\n",
       "      <th>1</th>\n",
       "    </tr>\n",
       "    <tr>\n",
       "      <th>whiteWin</th>\n",
       "      <th></th>\n",
       "      <th></th>\n",
       "    </tr>\n",
       "  </thead>\n",
       "  <tbody>\n",
       "    <tr>\n",
       "      <th>0</th>\n",
       "      <td>9190</td>\n",
       "      <td>867</td>\n",
       "    </tr>\n",
       "    <tr>\n",
       "      <th>1</th>\n",
       "      <td>9188</td>\n",
       "      <td>813</td>\n",
       "    </tr>\n",
       "  </tbody>\n",
       "</table>\n",
       "</div>"
      ],
      "text/plain": [
       "win_out      0    1\n",
       "whiteWin           \n",
       "0         9190  867\n",
       "1         9188  813"
      ]
     },
     "execution_count": 15,
     "metadata": {},
     "output_type": "execute_result"
    }
   ],
   "source": [
    "#Find probability for white winning given that it's winning by timeout\n",
    "df['win_out'] = np.where(df['victory_status'] == 'outoftime', 1, 0)\n",
    "df['whiteWin'] = np.where(df['winner'] == 'white', 1, 0)\n",
    "\n",
    "\n",
    "df['count'] = 1\n",
    "\n",
    "\n",
    "df1 = df[['whiteWin', 'win_out', 'count']]\n",
    "\n",
    "\n",
    "pd.pivot_table(df1, values = 'count', index = ['whiteWin'], columns = ['win_out'], aggfunc = np.size, fill_value = 0)"
   ]
  },
  {
   "cell_type": "code",
   "execution_count": 16,
   "metadata": {},
   "outputs": [
    {
     "name": "stdout",
     "output_type": "stream",
     "text": [
      "Probability of white wins given winning condition is timeout: 48.392857142857146%\n"
     ]
    }
   ],
   "source": [
    "out_probA = (9188 + 813)/(9190 + 9188 + 813 + 867)\n",
    "out_probB = (867 + 813)/(9190 + 9188 + 813 + 867)\n",
    "out_bna = 813 / (9190 + 9188 + 813 + 867)\n",
    "out_probBgivA = out_bna / out_probA\n",
    "out_probAgivB = (out_probBgivA * out_probA)/out_probB\n",
    "print(\"Probability of white wins given winning condition is timeout: \" + str(out_probAgivB*100) + \"%\")"
   ]
  },
  {
   "cell_type": "markdown",
   "metadata": {},
   "source": [
    "While white does have an advantage when winning through checkmate, white's probability of winning by timeout is approximately 48%. Though this does not mean that black is on the advantage side yet, for there is still draw if the other does not have sufficient mating material."
   ]
  },
  {
   "cell_type": "code",
   "execution_count": 17,
   "metadata": {},
   "outputs": [
    {
     "data": {
      "text/html": [
       "<div>\n",
       "<style scoped>\n",
       "    .dataframe tbody tr th:only-of-type {\n",
       "        vertical-align: middle;\n",
       "    }\n",
       "\n",
       "    .dataframe tbody tr th {\n",
       "        vertical-align: top;\n",
       "    }\n",
       "\n",
       "    .dataframe thead th {\n",
       "        text-align: right;\n",
       "    }\n",
       "</style>\n",
       "<table border=\"1\" class=\"dataframe\">\n",
       "  <thead>\n",
       "    <tr style=\"text-align: right;\">\n",
       "      <th>win_out</th>\n",
       "      <th>0</th>\n",
       "      <th>1</th>\n",
       "    </tr>\n",
       "    <tr>\n",
       "      <th>blackWin</th>\n",
       "      <th></th>\n",
       "      <th></th>\n",
       "    </tr>\n",
       "  </thead>\n",
       "  <tbody>\n",
       "    <tr>\n",
       "      <th>0</th>\n",
       "      <td>10094</td>\n",
       "      <td>857</td>\n",
       "    </tr>\n",
       "    <tr>\n",
       "      <th>1</th>\n",
       "      <td>8284</td>\n",
       "      <td>823</td>\n",
       "    </tr>\n",
       "  </tbody>\n",
       "</table>\n",
       "</div>"
      ],
      "text/plain": [
       "win_out       0    1\n",
       "blackWin            \n",
       "0         10094  857\n",
       "1          8284  823"
      ]
     },
     "execution_count": 17,
     "metadata": {},
     "output_type": "execute_result"
    }
   ],
   "source": [
    "#Find probability for white winning given that it's winning by timeout\n",
    "df['win_out'] = np.where(df['victory_status'] == 'outoftime', 1, 0)\n",
    "df['blackWin'] = np.where(df['winner'] == 'black', 1, 0)\n",
    "\n",
    "\n",
    "df['count'] = 1\n",
    "\n",
    "\n",
    "df1 = df[['blackWin', 'win_out', 'count']]\n",
    "\n",
    "\n",
    "pd.pivot_table(df1, values = 'count', index = ['blackWin'], columns = ['win_out'], aggfunc = np.size, fill_value = 0)"
   ]
  },
  {
   "cell_type": "code",
   "execution_count": 18,
   "metadata": {
    "scrolled": true
   },
   "outputs": [
    {
     "name": "stdout",
     "output_type": "stream",
     "text": [
      "Probability of black wins given winning condition is timeout: 48.988095238095234%\n"
     ]
    }
   ],
   "source": [
    "b_out_probA = (10094 + 8284)/(10094 + 8284 + 823 + 857)\n",
    "b_out_probB = (857 + 823)/(10094 + 8284 + 823 + 857)\n",
    "b_out_bna = 823 / (10094 + 8284 + 823 + 857)\n",
    "b_out_probBgivA = b_out_bna / b_out_probA\n",
    "b_out_probAgivB = (b_out_probBgivA * b_out_probA)/b_out_probB\n",
    "print(\"Probability of black wins given winning condition is timeout: \" + str(b_out_probAgivB*100) + \"%\")"
   ]
  },
  {
   "cell_type": "markdown",
   "metadata": {},
   "source": [
    "#### Observations\n",
    "After a little bit of analysis, I notice that:\n",
    "* White has an advantage if player wants to win through opponent resigning\n",
    "* White has an advantage if player wants to win through checkmate\n",
    "* Black has a slight advantage if player wants to win through timeout\n",
    "\n",
    "While white does not get all the advantages, it does have an advantage. But we are only halfway through the analysis, so black still has a chance."
   ]
  },
  {
   "cell_type": "markdown",
   "metadata": {},
   "source": [
    "### Relationship between game_rating and winning color\n",
    "First we need to find out how many players are playing for each game_rating"
   ]
  },
  {
   "cell_type": "code",
   "execution_count": 28,
   "metadata": {},
   "outputs": [
    {
     "data": {
      "text/plain": [
       "(-1.1074971767611945,\n",
       " 1.1066263914151002,\n",
       " -1.1034061716609131,\n",
       " 1.1107173965153816)"
      ]
     },
     "execution_count": 28,
     "metadata": {},
     "output_type": "execute_result"
    },
    {
     "data": {
      "image/png": "[encoded data removed]",
      "text/plain": [
       "<Figure size 432x288 with 1 Axes>"
      ]
     },
     "metadata": {},
     "output_type": "display_data"
    }
   ],
   "source": [
    "df['game_rating'] = df['game_rating'].cat.remove_unused_categories()\n",
    "rating_count = df['game_rating'].value_counts()\n",
    "\n",
    "#define a function for pie plotting\n",
    "def pie_abs(x):\n",
    "    absolute = int(round(x / 100*df.shape[0], 0))\n",
    "    return \"{}\\n\\n{:0.0f}%\".format(absolute, x)\n",
    "\n",
    "#Plot pie chart\n",
    "plt.pie(data = df,x = rating_count, labels = rating_count.index, startangle = 90,\n",
    "        counterclock = False, autopct = pie_abs, textprops = dict(fontsize = 11),\n",
    "        colors = ['blue', 'orange'])\n",
    "\n",
    "#Set the axis to a square\n",
    "plt.axis('square')"
   ]
  },
  {
   "cell_type": "markdown",
   "metadata": {},
   "source": [
    "It looks like 90% of the games are rapid, 10% of the games are blitz, and none of the games are bullet. "
   ]
  },
  {
   "cell_type": "markdown",
   "metadata": {},
   "source": [
    "Now let's take a look at the relationship between winner count and the game rating."
   ]
  },
  {
   "cell_type": "code",
   "execution_count": 45,
   "metadata": {},
   "outputs": [
    {
     "data": {
      "image/png": "[encoded data removed]",
      "text/plain": [
       "<Figure size 950.4x432 with 2 Axes>"
      ]
     },
     "metadata": {
      "needs_background": "light"
     },
     "output_type": "display_data"
    }
   ],
   "source": [
    "p = sns.FacetGrid(data = df, col = 'game_rating', height = 6, aspect=1.1)\n",
    "p.map(sns.countplot, 'winner', order=['white', 'black', 'draw'], palette=['silver','black', 'blue']); "
   ]
  },
  {
   "cell_type": "markdown",
   "metadata": {},
   "source": [
    "#### Observations\n",
    "After looking at the graph, there are 2 main points that I noticed:\n",
    "* White beats black in terms of advantage for both blitz and rapid\n",
    "* While black is beaten in advantage in both ratings, black's disadvantage in blitz is way less in comparison to rapid\n",
    "\n",
    "At this point, the result is starting to take shape, seeming that white does have an advantage, but we are not finished yet, we still have the last analysis."
   ]
  },
  {
   "cell_type": "markdown",
   "metadata": {},
   "source": [
    "### Relationship between opening move and winning color\n",
    "There are lots of opening moves in chess, from queen's gambit to silican defense to king's gambit (my favourate opening move). But does white have an advantage, even with strategies and opening moves? <br><br>\n",
    "To start the analysis, we first need to find the eco. According to <a href = \"https://www.365chess.com/eco.php\">365Chess</a>, openings are divided into five categories from \"A\" to \"E\". To do that, we can find the first letter of the \"opening_eco\" for each match, and use that to categorize the eco rating. "
   ]
  },
  {
   "cell_type": "code",
   "execution_count": 50,
   "metadata": {},
   "outputs": [],
   "source": [
    "df['eco_cat'] = df['opening_eco'].apply(lambda x: x[0])\n",
    "#convert eco_cat into categorical data\n",
    "op = ['A', 'B', 'C', 'D', 'E']\n",
    "op_cat = pd.api.types.CategoricalDtype(categories = op, ordered = True)\n",
    "df['eco_cat'] = df['eco_cat'].astype(op_cat)"
   ]
  },
  {
   "cell_type": "markdown",
   "metadata": {},
   "source": [
    "Now that we categorized the openings, we can start the analysis."
   ]
  },
  {
   "cell_type": "code",
   "execution_count": 58,
   "metadata": {},
   "outputs": [
    {
     "data": {
      "text/plain": [
       "<seaborn.axisgrid.FacetGrid at 0x223251b0100>"
      ]
     },
     "execution_count": 58,
     "metadata": {},
     "output_type": "execute_result"
    },
    {
     "data": {
      "image/png": "[encoded data removed]",
      "text/plain": [
       "<Figure size 1425.6x432 with 3 Axes>"
      ]
     },
     "metadata": {
      "needs_background": "light"
     },
     "output_type": "display_data"
    }
   ],
   "source": [
    "g = sns.FacetGrid(data = df, col = 'winner', height = 6, aspect=1.1)\n",
    "g.map(sns.countplot, 'eco_cat', order = ['A', 'B', 'C', 'D', 'E'])"
   ]
  },
  {
   "cell_type": "markdown",
   "metadata": {},
   "source": [
    "Now let's look at each opening category in detail by reversing the columns and x"
   ]
  },
  {
   "cell_type": "code",
   "execution_count": 83,
   "metadata": {},
   "outputs": [
    {
     "name": "stdout",
     "output_type": "stream",
     "text": [
      "Opening category A statistics: \n",
      "Opening A frequency: 19.807558081563467%\n",
      "white wins: 1888\n",
      "black wins: 1878\n",
      "draws: 207\n",
      "\n",
      "Opening category B statistics: \n",
      "Opening B frequency: 26.114268620999102%\n",
      "white wins: 2576\n",
      "black wins: 2406\n",
      "draws: 256\n",
      "\n",
      "Opening category C statistics: \n",
      "Opening C frequency: 38.17928008774554%\n",
      "white wins: 3957\n",
      "black wins: 3375\n",
      "draws: 326\n",
      "\n",
      "Opening category D statistics: \n",
      "Opening D frequency: 13.376208993917638%\n",
      "white wins: 1337\n",
      "black wins: 1216\n",
      "draws: 130\n",
      "\n",
      "Opening category E statistics: \n",
      "Opening E frequency: 2.522684215774255%\n",
      "white wins: 243\n",
      "black wins: 232\n",
      "draws: 31\n",
      "\n",
      "white total wins: 10001\n",
      "black total wins: 9107\n"
     ]
    },
    {
     "data": {
      "image/png": "[encoded data removed]",
      "text/plain": [
       "<Figure size 2376x432 with 5 Axes>"
      ]
     },
     "metadata": {
      "needs_background": "light"
     },
     "output_type": "display_data"
    }
   ],
   "source": [
    "h = sns.FacetGrid(data = df, col = 'eco_cat', height = 6, aspect=1.1)\n",
    "h.map(sns.countplot, 'winner', order = ['white', 'black', 'draw'], palette = ['silver', 'black', 'blue'])\n",
    "print(\"Opening category A statistics: \")\n",
    "print(\"Opening A frequency: \" + str(list(df['eco_cat']).count(\"A\")*100 / len(df['eco_cat'])) + \"%\")\n",
    "print(\"white wins: \" + str(list(df.query('eco_cat == \"A\"')['winner']).count('white')))\n",
    "print(\"black wins: \" + str(list(df.query('eco_cat == \"A\"')['winner']).count('black')))\n",
    "print(\"draws: \" + str(list(df.query('eco_cat == \"A\"')['winner']).count('draw')))\n",
    "print()\n",
    "print(\"Opening category B statistics: \")\n",
    "print(\"Opening B frequency: \" + str(list(df['eco_cat']).count(\"B\")*100 / len(df['eco_cat'])) + \"%\")\n",
    "print(\"white wins: \" + str(list(df.query('eco_cat == \"B\"')['winner']).count('white')))\n",
    "print(\"black wins: \" + str(list(df.query('eco_cat == \"B\"')['winner']).count('black')))\n",
    "print(\"draws: \" + str(list(df.query('eco_cat == \"B\"')['winner']).count('draw')))\n",
    "print()\n",
    "print(\"Opening category C statistics: \")\n",
    "print(\"Opening C frequency: \" + str(list(df['eco_cat']).count(\"C\")*100 / len(df['eco_cat'])) + \"%\")\n",
    "print(\"white wins: \" + str(list(df.query('eco_cat == \"C\"')['winner']).count('white')))\n",
    "print(\"black wins: \" + str(list(df.query('eco_cat == \"C\"')['winner']).count('black')))\n",
    "print(\"draws: \" + str(list(df.query('eco_cat == \"C\"')['winner']).count('draw')))\n",
    "print()\n",
    "print(\"Opening category D statistics: \")\n",
    "print(\"Opening D frequency: \" + str(list(df['eco_cat']).count(\"D\")*100 / len(df['eco_cat'])) + \"%\")\n",
    "print(\"white wins: \" + str(list(df.query('eco_cat == \"D\"')['winner']).count('white')))\n",
    "print(\"black wins: \" + str(list(df.query('eco_cat == \"D\"')['winner']).count('black')))\n",
    "print(\"draws: \" + str(list(df.query('eco_cat == \"D\"')['winner']).count('draw')))\n",
    "print()\n",
    "print(\"Opening category E statistics: \")\n",
    "print(\"Opening E frequency: \" + str(list(df['eco_cat']).count(\"E\")*100 / len(df['eco_cat'])) + \"%\")\n",
    "print(\"white wins: \" + str(list(df.query('eco_cat == \"E\"')['winner']).count('white')))\n",
    "print(\"black wins: \" + str(list(df.query('eco_cat == \"E\"')['winner']).count('black')))\n",
    "print(\"draws: \" + str(list(df.query('eco_cat == \"E\"')['winner']).count('draw')))\n",
    "print()\n",
    "print(\"white total wins: \"+ str(list(df['winner']).count('white')))\n",
    "print(\"black total wins: \"+ str(list(df['winner']).count('black')))"
   ]
  },
  {
   "cell_type": "markdown",
   "metadata": {},
   "source": [
    "#### Observation\n",
    "The results show that:\n",
    "* No matter what opening category, white has an advantage over black, with opening category C being the biggest advantage, and opening category A being the least advantage.\n",
    "* With a frequency of approximately 38%, players tend to play opening category C the most, meaning white has a 38% chance of having the biggest advantage"
   ]
  },
  {
   "cell_type": "markdown",
   "metadata": {},
   "source": [
    "### Results\n",
    "After the analysis, it is clear that white does have an advantage over black, no matter which opening you are playing or which game rating you are playing, with black's only advantage being when you try to win by timeout.\n",
    "\n",
    "This is just an overview of whether white does have an advantage over black. To look further into the probabilities and statistics, it will require more complex probability models."
   ]
  }
 ],
 "metadata": {
  "kernelspec": {
   "display_name": "Python 3",
   "language": "python",
   "name": "python3"
  },
  "language_info": {
   "codemirror_mode": {
    "name": "ipython",
    "version": 3
   },
   "file_extension": ".py",
   "mimetype": "text/x-python",
   "name": "python",
   "nbconvert_exporter": "python",
   "pygments_lexer": "ipython3",
   "version": "3.8.5"
  }
 },
 "nbformat": 4,
 "nbformat_minor": 4
}
